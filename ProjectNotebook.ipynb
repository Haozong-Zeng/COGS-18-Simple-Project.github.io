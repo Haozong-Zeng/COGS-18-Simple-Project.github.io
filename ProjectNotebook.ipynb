{
 "cells": [
  {
   "cell_type": "markdown",
   "metadata": {},
   "source": [
    "# Project Description\n",
    "\n",
    "Baidu Tieba (Chinese: 百度贴吧; literally: 'Baidu Paste Bar') is the largest Chinese communication platform hosted by Chinese search engine company Baidu. As a Warcraft player interested in the WorldEditor, I have joined the Worldcraft Map Editor Bar (Chinese: 魔兽地图编辑器吧) for 4 years, and have benefited a lot from the documents and data shared by the community. \n",
    "\n",
    "Recently, according to Baidu Tieba's official news, due to system upgrades, Baidu Tieba will temporarily hide the posts before January 1, 2017, and the recovery date is unknown. However, there are rumors that these data may be permanently deleted, due to political issues. Therefore, for those who are new to the WorldEditor, I decide to make a simple app that could be used to explore the complex relationships between Orbs Effect (Chinese: 法球) and Buff Placer (Chinese: 攻击特效), helping them to deal with the tricky Orb problems when editing their own Warcraft maps. \n",
    "\n",
    "For basic information about Orb Effects, go to https://liquipedia.net/warcraft/Orb - but the information there is too simple for map editors.\n",
    "\n",
    "The information of the WorldEditor and the mechanism of Warcraft mostly comes from the Worldcraft Map Editor Bar, but some original contributors are unknown due to the issue mentioned above. \n"
   ]
  },
  {
   "cell_type": "markdown",
   "metadata": {},
   "source": [
    "## Tech Used\n",
    "\n",
    "- Tkinter for GUI\n",
    "- Basic techniques learned in COGS 18 (function, dictionary, class, etc...)"
   ]
  },
  {
   "cell_type": "markdown",
   "metadata": {},
   "source": [
    "## Instructions for Use\n",
    "\n",
    "The two input entries at the top are for inputting the names of Orb spells in warcraft (one spell in each entry). Incorrect inputs will be pointed out after clicking the \"compare\" button. The check bottuns below are for choosing the unit's weapon type.\n",
    "\n",
    "For more information about Orb spells in Warcraft 3, go to https://zhuanlan.zhihu.com/p/67990347 (my article). Use Google Translation if necessary. A list of Orb spells is shown in this website. You may also open WorldEditor to see the spells if you have Warcraft 3 on your PC.\n",
    "\n",
    "For more information about weapon type in Warcraft 3, go to https://liquipedia.net/warcraft/Weapon_Type. You can also find information about Orb spells in this website, but it's not informative and systematic enough.\n",
    "\n",
    "Some Orb spells for testing:\n",
    "\n",
    "- Barrage\n",
    "- Flak Cannons\n",
    "- Feedback\n",
    "- Bash\n",
    "- Envenomed Spears\n",
    "- Liquid Fire"
   ]
  },
  {
   "cell_type": "markdown",
   "metadata": {},
   "source": [
    "PS: For grading, I create an extra English grafical interface to submit. However, since Warcraft 3 is almost a \"dead game\" on Reddit community (8.2k), while it remains alive on Tieba community (8940k), I guess this simple app (designed for freshmen) will not be that useful for those few experienced Map Editor users on Reddit. Therefore, I leave those key words in the codes as Chinese strings."
   ]
  },
  {
   "cell_type": "markdown",
   "metadata": {},
   "source": [
    "## Acknowledgement\n",
    "\n",
    "All contributors of the Worldcraft Map Editor Bar community."
   ]
  },
  {
   "cell_type": "code",
   "execution_count": null,
   "metadata": {},
   "outputs": [],
   "source": []
  }
 ],
 "metadata": {
  "kernelspec": {
   "display_name": "Python 3",
   "language": "python",
   "name": "python3"
  },
  "language_info": {
   "codemirror_mode": {
    "name": "ipython",
    "version": 3
   },
   "file_extension": ".py",
   "mimetype": "text/x-python",
   "name": "python",
   "nbconvert_exporter": "python",
   "pygments_lexer": "ipython3",
   "version": "3.7.1"
  }
 },
 "nbformat": 4,
 "nbformat_minor": 2
}
